{
  "cells": [
    {
      "cell_type": "code",
      "execution_count": 2,
      "metadata": {
        "id": "k0qGq0RrcOai"
      },
      "outputs": [],
      "source": [
        "import tensorflow as tf\n",
        "from matplotlib import pyplot as plt\n",
        "import numpy as np"
      ]
    },
    {
      "cell_type": "markdown",
      "source": [
        "Install Tensorflow Addons: [LINK](https://colab.research.google.com/github/tensorflow/addons/blob/master/docs/tutorials/image_ops.ipynb#scrollTo=o_QTX_vHGbj7)"
      ],
      "metadata": {
        "id": "P04ng0AaiP9u"
      }
    },
    {
      "cell_type": "code",
      "source": [
        "!pip install -U tensorflow-addons"
      ],
      "metadata": {
        "colab": {
          "base_uri": "https://localhost:8080/"
        },
        "id": "BrKeIqx7iNFv",
        "outputId": "1001f8bc-b8a4-40cb-d945-d6481d33ac63"
      },
      "execution_count": null,
      "outputs": [
        {
          "output_type": "stream",
          "name": "stdout",
          "text": [
            "Looking in indexes: https://pypi.org/simple, https://us-python.pkg.dev/colab-wheels/public/simple/\n",
            "Collecting tensorflow-addons\n",
            "  Downloading tensorflow_addons-0.19.0-cp38-cp38-manylinux_2_17_x86_64.manylinux2014_x86_64.whl (1.1 MB)\n",
            "\u001b[K     |████████████████████████████████| 1.1 MB 6.4 MB/s \n",
            "\u001b[?25hRequirement already satisfied: packaging in /usr/local/lib/python3.8/dist-packages (from tensorflow-addons) (21.3)\n",
            "Requirement already satisfied: typeguard>=2.7 in /usr/local/lib/python3.8/dist-packages (from tensorflow-addons) (2.7.1)\n",
            "Requirement already satisfied: pyparsing!=3.0.5,>=2.0.2 in /usr/local/lib/python3.8/dist-packages (from packaging->tensorflow-addons) (3.0.9)\n",
            "Installing collected packages: tensorflow-addons\n",
            "Successfully installed tensorflow-addons-0.19.0\n"
          ]
        }
      ]
    },
    {
      "cell_type": "code",
      "source": [
        "import os\n",
        "import sys\n",
        "\n",
        "from google.colab import drive \n",
        "drive.mount(\"/content/drive/\", force_remount=True) \n",
        "colab_path = (\"/content/drive/My Drive/colab/final_project/\")\n",
        "sys.path.append(colab_path)\n",
        "\n",
        "IMG_PATH = \"/content/drive/My Drive/colab/final_project/data/images\""
      ],
      "metadata": {
        "colab": {
          "base_uri": "https://localhost:8080/"
        },
        "id": "UAg1kfoP7tlZ",
        "outputId": "2f33b444-8ceb-40dd-e758-eb51fac9dcda"
      },
      "execution_count": 3,
      "outputs": [
        {
          "output_type": "stream",
          "name": "stdout",
          "text": [
            "Mounted at /content/drive/\n"
          ]
        }
      ]
    },
    {
      "cell_type": "code",
      "source": [
        "import glob\n",
        "\n",
        "# this doesn't work if the images are shared with you but keras can still \n",
        "# load them\n",
        "glob.glob(IMG_PATH + \"/*.jpg\")"
      ],
      "metadata": {
        "colab": {
          "base_uri": "https://localhost:8080/"
        },
        "id": "ZFuO859TghA4",
        "outputId": "8f2d5af1-40f6-4136-c61c-2d438949974b"
      },
      "execution_count": 4,
      "outputs": [
        {
          "output_type": "execute_result",
          "data": {
            "text/plain": [
              "[]"
            ]
          },
          "metadata": {},
          "execution_count": 4
        }
      ]
    },
    {
      "cell_type": "markdown",
      "source": [
        "Code and Concept Mostly based on: https://keras.io/examples/vision/mlp_image_classification/#build-a-classification-model"
      ],
      "metadata": {
        "id": "ocBmU9qTi-_e"
      }
    },
    {
      "cell_type": "code",
      "execution_count": 5,
      "metadata": {
        "id": "8lPoVMKTcOau"
      },
      "outputs": [],
      "source": [
        "import numpy as np\n",
        "import tensorflow as tf\n",
        "from tensorflow import keras\n",
        "from tensorflow.keras import layers\n",
        "# import tensorflow_addons as tfa"
      ]
    },
    {
      "cell_type": "code",
      "source": [
        "class Patches(layers.Layer):\n",
        "    \"\"\"\n",
        "    https://www.tensorflow.org/api_docs/python/tf/image/extract_patches\n",
        "\n",
        "    For an image, extract square 'patches' of pixels in regular, deterministic\n",
        "    pattern. \n",
        "\n",
        "    Note that patch extraction has no learnable parameters, so it is not a\n",
        "    dynamic part of the network. \n",
        "    \"\"\"\n",
        "    def __init__(self, patch_size, num_patches):\n",
        "        super(Patches, self).__init__()\n",
        "        self.patch_size = patch_size\n",
        "        self.num_patches = num_patches\n",
        "\n",
        "    def call(self, images):\n",
        "        batch_size = tf.shape(images)[0]\n",
        "        \n",
        "        patches = tf.image.extract_patches(\n",
        "            images=images,\n",
        "            sizes=[1, self.patch_size, self.patch_size, 1],\n",
        "            strides=[1, self.patch_size, self.patch_size, 1],\n",
        "            rates=[1, 1, 1, 1],\n",
        "            padding=\"VALID\",\n",
        "        )\n",
        "        patch_dims = patches.shape[-1]\n",
        "        patches = tf.reshape(patches, [batch_size, self.num_patches, patch_dims])\n",
        "        return patches"
      ],
      "metadata": {
        "id": "x7cLyAuFeVJK"
      },
      "execution_count": 6,
      "outputs": []
    },
    {
      "cell_type": "code",
      "source": [
        "class FNetLayer(layers.Layer):\n",
        "    \"\"\"\n",
        "    https://arxiv.org/abs/2105.03824\n",
        "\n",
        "    FNet: Mixing Tokens with Fourier Transforms\n",
        "\n",
        "    We show that Transformer encoder architectures can be sped up, with \n",
        "    limited accuracy costs, by replacing the self-attention sublayers \n",
        "    with simple linear transformations that \"mix\" input tokens.\n",
        "\n",
        "    ...\n",
        "\n",
        "    FNet has a light memory footprint and is particularly efficient at \n",
        "    smaller model sizes; for a fixed speed and accuracy budget, \n",
        "    small FNet models outperform Transformer counterparts.\n",
        "    \"\"\"\n",
        "    def __init__(self, num_patches, embedding_dim, dropout_rate, *args, **kwargs):\n",
        "        super(FNetLayer, self).__init__(*args, **kwargs)\n",
        "\n",
        "        self.ffn = keras.Sequential(\n",
        "            [ \n",
        "                # RELU works better than GELU\n",
        "                layers.Dense(units=embedding_dim, activation='relu'),\n",
        "                # tfa.layers.GELU(),\n",
        "                layers.Dropout(rate=dropout_rate),\n",
        "                layers.Dense(units=embedding_dim),\n",
        "            ]\n",
        "        )\n",
        "\n",
        "        self.normalize1 = layers.LayerNormalization(epsilon=1e-6)\n",
        "        self.normalize2 = layers.LayerNormalization(epsilon=1e-6)\n",
        "\n",
        "    def call(self, inputs):\n",
        "        # extract features using convolution\n",
        "        # Apply fourier transformations.\n",
        "        x = tf.cast(\n",
        "            tf.signal.fft2d(tf.cast(inputs, dtype=tf.dtypes.complex64)),\n",
        "            dtype=tf.dtypes.float32,\n",
        "        )\n",
        "\n",
        "        # Add skip connection.\n",
        "        x = x + inputs\n",
        "        # Apply layer normalization.\n",
        "        x = self.normalize1(x)\n",
        "        # Apply Feedfowrad network.\n",
        "        x_ffn = self.ffn(x)\n",
        "        # Add skip connection.\n",
        "        x = x + x_ffn\n",
        "        # Apply layer normalization.\n",
        "        return self.normalize2(x)"
      ],
      "metadata": {
        "id": "Q9cbtsgShmlP"
      },
      "execution_count": 7,
      "outputs": []
    },
    {
      "cell_type": "markdown",
      "source": [
        ">To avoid biasing the annotation for easily classifiable cell images, separate classes were included for artefacts, cells that could not be identified, and other cells belonging to morphological classes not represented in the scheme. From the annotated regions, 250 x 250-pixel images were extracted containing the respective annotated cell as a main content in the patch center (Figure 1A). No further cropping, filtering, or segmentation between foreground and background took place, leaving the algorithm with the task of identifying the main image content relevant for the respective annotation.\n",
        "\n",
        "- Matek, Krappe, et. al pp. 1918, \"Highly accurate differentiation of bone marrow cell\n",
        "morphologies using deep neural networks on a large image\n",
        "data set\""
      ],
      "metadata": {
        "id": "6_9xPiqHlCdO"
      }
    },
    {
      "cell_type": "code",
      "execution_count": 8,
      "metadata": {
        "id": "5taEljCccOax",
        "colab": {
          "base_uri": "https://localhost:8080/"
        },
        "outputId": "de369c02-018a-40dd-cec3-d730a44208f9"
      },
      "outputs": [
        {
          "output_type": "stream",
          "name": "stdout",
          "text": [
            "Found 171374 files belonging to 21 classes.\n",
            "Using 34275 files for training.\n",
            "Found 171374 files belonging to 21 classes.\n",
            "Using 34274 files for validation.\n"
          ]
        }
      ],
      "source": [
        "# Properties of our dataset\n",
        "IMG_DIM = 128\n",
        "IMAGE_SHAPE = (IMG_DIM, IMG_DIM, 3)\n",
        "\n",
        "# get all the data\n",
        "train_ds = tf.keras.preprocessing.image_dataset_from_directory(\n",
        "    directory=IMG_PATH,\n",
        "    label_mode='categorical',\n",
        "    validation_split=0.8,\n",
        "    subset=\"training\",\n",
        "    seed=1337,\n",
        "    image_size=(IMG_DIM, IMG_DIM),\n",
        ")\n",
        "val_ds = tf.keras.preprocessing.image_dataset_from_directory(\n",
        "    directory=IMG_PATH,\n",
        "    validation_split=0.2,\n",
        "    subset=\"validation\",\n",
        "    label_mode='categorical',\n",
        "    seed=1337,\n",
        "    image_size=(IMG_DIM, IMG_DIM),\n",
        ")\n",
        "\n",
        "AUTOTUNE = tf.data.AUTOTUNE\n",
        "\n",
        "train_ds = train_ds.cache().prefetch(buffer_size=AUTOTUNE)\n",
        "val_ds = val_ds.cache().prefetch(buffer_size=AUTOTUNE)"
      ]
    },
    {
      "cell_type": "code",
      "execution_count": 17,
      "metadata": {
        "colab": {
          "base_uri": "https://localhost:8080/"
        },
        "id": "YSS9WAcxcOax",
        "outputId": "88d18bf7-12be-4031-a9be-57b6de18ea98"
      },
      "outputs": [
        {
          "output_type": "stream",
          "name": "stdout",
          "text": [
            "Model: \"model_6\"\n",
            "_________________________________________________________________\n",
            " Layer (type)                Output Shape              Param #   \n",
            "=================================================================\n",
            " input_9 (InputLayer)        [(None, 128, 128, 3)]     0         \n",
            "                                                                 \n",
            " conv2d_41 (Conv2D)          (None, 128, 128, 8)       224       \n",
            "                                                                 \n",
            " batch_normalization_43 (Bat  (None, 128, 128, 8)      32        \n",
            " chNormalization)                                                \n",
            "                                                                 \n",
            " dropout_73 (Dropout)        (None, 128, 128, 8)       0         \n",
            "                                                                 \n",
            " conv2d_42 (Conv2D)          (None, 64, 64, 64)        4672      \n",
            "                                                                 \n",
            " batch_normalization_44 (Bat  (None, 64, 64, 64)       256       \n",
            " chNormalization)                                                \n",
            "                                                                 \n",
            " dropout_74 (Dropout)        (None, 64, 64, 64)        0         \n",
            "                                                                 \n",
            " conv2d_43 (Conv2D)          (None, 32, 32, 64)        36928     \n",
            "                                                                 \n",
            " batch_normalization_45 (Bat  (None, 32, 32, 64)       256       \n",
            " chNormalization)                                                \n",
            "                                                                 \n",
            " dropout_75 (Dropout)        (None, 32, 32, 64)        0         \n",
            "                                                                 \n",
            " conv2d_44 (Conv2D)          (None, 32, 32, 64)        36928     \n",
            "                                                                 \n",
            " batch_normalization_46 (Bat  (None, 32, 32, 64)       256       \n",
            " chNormalization)                                                \n",
            "                                                                 \n",
            " dropout_76 (Dropout)        (None, 32, 32, 64)        0         \n",
            "                                                                 \n",
            " conv2d_45 (Conv2D)          (None, 32, 32, 128)       73856     \n",
            "                                                                 \n",
            " batch_normalization_47 (Bat  (None, 32, 32, 128)      512       \n",
            " chNormalization)                                                \n",
            "                                                                 \n",
            " dropout_77 (Dropout)        (None, 32, 32, 128)       0         \n",
            "                                                                 \n",
            " conv2d_46 (Conv2D)          (None, 32, 32, 256)       295168    \n",
            "                                                                 \n",
            " batch_normalization_48 (Bat  (None, 32, 32, 256)      1024      \n",
            " chNormalization)                                                \n",
            "                                                                 \n",
            " dropout_78 (Dropout)        (None, 32, 32, 256)       0         \n",
            "                                                                 \n",
            " patches_6 (Patches)         (None, 16, 16384)         0         \n",
            "                                                                 \n",
            " dense_60 (Dense)            (None, 16, 256)           4194560   \n",
            "                                                                 \n",
            " tf.__operators__.add_6 (TFO  (None, 16, 256)          0         \n",
            " pLambda)                                                        \n",
            "                                                                 \n",
            " sequential_42 (Sequential)  (None, 16, 256)           530432    \n",
            "                                                                 \n",
            " global_average_pooling1d_6   (None, 256)              0         \n",
            " (GlobalAveragePooling1D)                                        \n",
            "                                                                 \n",
            " dropout_83 (Dropout)        (None, 256)               0         \n",
            "                                                                 \n",
            " dense_69 (Dense)            (None, 21)                5397      \n",
            "                                                                 \n",
            "=================================================================\n",
            "Total params: 5,180,501\n",
            "Trainable params: 5,179,333\n",
            "Non-trainable params: 1,168\n",
            "_________________________________________________________________\n",
            "Epoch 1/20\n"
          ]
        },
        {
          "output_type": "stream",
          "name": "stderr",
          "text": [
            "/usr/local/lib/python3.8/dist-packages/tensorflow/python/util/dispatch.py:1082: UserWarning: \"`categorical_crossentropy` received `from_logits=True`, but the `output` argument was produced by a sigmoid or softmax activation and thus does not represent logits. Was this intended?\"\n",
            "  return dispatch_target(*args, **kwargs)\n"
          ]
        },
        {
          "output_type": "stream",
          "name": "stdout",
          "text": [
            "1072/1072 [==============================] - 403s 372ms/step - loss: 1.6613 - accuracy: 0.4778 - precision: 0.6869 - recall: 0.2999 - auc: 0.9197 - prc: 0.4997 - val_loss: 1.8360 - val_accuracy: 0.4497 - val_precision: 0.6142 - val_recall: 0.3461 - val_auc: 0.9009 - val_prc: 0.4750\n",
            "Epoch 2/20\n",
            "1072/1072 [==============================] - 40s 37ms/step - loss: 1.2340 - accuracy: 0.6118 - precision: 0.7520 - recall: 0.4858 - auc: 0.9545 - prc: 0.6705 - val_loss: 1.9495 - val_accuracy: 0.4261 - val_precision: 0.5456 - val_recall: 0.3019 - val_auc: 0.8890 - val_prc: 0.4085\n",
            "Epoch 3/20\n",
            "1072/1072 [==============================] - 40s 37ms/step - loss: 1.0852 - accuracy: 0.6583 - precision: 0.7777 - recall: 0.5500 - auc: 0.9644 - prc: 0.7276 - val_loss: 1.3236 - val_accuracy: 0.5860 - val_precision: 0.7226 - val_recall: 0.4728 - val_auc: 0.9482 - val_prc: 0.6447\n",
            "Epoch 4/20\n",
            "1072/1072 [==============================] - 40s 37ms/step - loss: 0.9895 - accuracy: 0.6890 - precision: 0.7929 - recall: 0.5942 - auc: 0.9695 - prc: 0.7616 - val_loss: 1.3143 - val_accuracy: 0.6084 - val_precision: 0.7086 - val_recall: 0.5292 - val_auc: 0.9466 - val_prc: 0.6687\n",
            "Epoch 5/20\n",
            "1072/1072 [==============================] - 40s 38ms/step - loss: 0.9145 - accuracy: 0.7092 - precision: 0.8015 - recall: 0.6254 - auc: 0.9737 - prc: 0.7876 - val_loss: 1.0868 - val_accuracy: 0.6578 - val_precision: 0.7622 - val_recall: 0.5659 - val_auc: 0.9632 - val_prc: 0.7272\n",
            "Epoch 6/20\n",
            "1072/1072 [==============================] - 40s 37ms/step - loss: 0.8428 - accuracy: 0.7306 - precision: 0.8127 - recall: 0.6559 - auc: 0.9771 - prc: 0.8111 - val_loss: 1.1727 - val_accuracy: 0.6300 - val_precision: 0.7206 - val_recall: 0.5502 - val_auc: 0.9581 - val_prc: 0.6959\n",
            "Epoch 7/20\n",
            "1072/1072 [==============================] - 40s 37ms/step - loss: 0.7837 - accuracy: 0.7472 - precision: 0.8218 - recall: 0.6825 - auc: 0.9798 - prc: 0.8309 - val_loss: 1.2569 - val_accuracy: 0.6211 - val_precision: 0.6917 - val_recall: 0.5594 - val_auc: 0.9507 - val_prc: 0.6832\n",
            "Epoch 8/20\n",
            "1072/1072 [==============================] - 40s 37ms/step - loss: 0.7290 - accuracy: 0.7657 - precision: 0.8320 - recall: 0.7038 - auc: 0.9819 - prc: 0.8473 - val_loss: 1.3010 - val_accuracy: 0.5976 - val_precision: 0.6709 - val_recall: 0.5272 - val_auc: 0.9480 - val_prc: 0.6489\n",
            "Epoch 9/20\n",
            "1072/1072 [==============================] - 39s 37ms/step - loss: 0.6755 - accuracy: 0.7832 - precision: 0.8427 - recall: 0.7287 - auc: 0.9843 - prc: 0.8642 - val_loss: 1.0547 - val_accuracy: 0.6815 - val_precision: 0.7375 - val_recall: 0.6320 - val_auc: 0.9628 - val_prc: 0.7504\n",
            "Epoch 10/20\n",
            "1072/1072 [==============================] - 40s 37ms/step - loss: 0.6302 - accuracy: 0.7951 - precision: 0.8480 - recall: 0.7474 - auc: 0.9859 - prc: 0.8767 - val_loss: 0.9081 - val_accuracy: 0.7175 - val_precision: 0.7701 - val_recall: 0.6764 - val_auc: 0.9710 - val_prc: 0.7962\n",
            "Epoch 11/20\n",
            "1072/1072 [==============================] - 39s 37ms/step - loss: 0.5814 - accuracy: 0.8095 - precision: 0.8559 - recall: 0.7655 - auc: 0.9876 - prc: 0.8913 - val_loss: 1.3001 - val_accuracy: 0.6325 - val_precision: 0.6764 - val_recall: 0.5988 - val_auc: 0.9453 - val_prc: 0.6894\n",
            "Epoch 12/20\n",
            "1072/1072 [==============================] - 40s 37ms/step - loss: 0.5374 - accuracy: 0.8237 - precision: 0.8666 - recall: 0.7862 - auc: 0.9888 - prc: 0.9036 - val_loss: 1.0165 - val_accuracy: 0.7056 - val_precision: 0.7509 - val_recall: 0.6729 - val_auc: 0.9632 - val_prc: 0.7780\n",
            "Epoch 13/20\n",
            "1072/1072 [==============================] - 39s 37ms/step - loss: 0.4881 - accuracy: 0.8408 - precision: 0.8754 - recall: 0.8063 - auc: 0.9905 - prc: 0.9168 - val_loss: 1.0640 - val_accuracy: 0.7081 - val_precision: 0.7474 - val_recall: 0.6766 - val_auc: 0.9588 - val_prc: 0.7686\n",
            "Epoch 14/20\n",
            "1072/1072 [==============================] - 39s 37ms/step - loss: 0.4426 - accuracy: 0.8559 - precision: 0.8864 - recall: 0.8280 - auc: 0.9918 - prc: 0.9286 - val_loss: 0.9972 - val_accuracy: 0.7274 - val_precision: 0.7592 - val_recall: 0.7065 - val_auc: 0.9639 - val_prc: 0.7936\n",
            "Epoch 15/20\n",
            "1072/1072 [==============================] - 40s 37ms/step - loss: 0.4115 - accuracy: 0.8646 - precision: 0.8915 - recall: 0.8402 - auc: 0.9927 - prc: 0.9359 - val_loss: 1.1033 - val_accuracy: 0.6980 - val_precision: 0.7381 - val_recall: 0.6720 - val_auc: 0.9572 - val_prc: 0.7682\n",
            "Epoch 16/20\n",
            "1072/1072 [==============================] - 40s 37ms/step - loss: 0.3732 - accuracy: 0.8769 - precision: 0.9005 - recall: 0.8548 - auc: 0.9939 - prc: 0.9454 - val_loss: 1.1683 - val_accuracy: 0.7015 - val_precision: 0.7312 - val_recall: 0.6829 - val_auc: 0.9513 - val_prc: 0.7644\n",
            "Epoch 17/20\n",
            "1072/1072 [==============================] - 39s 37ms/step - loss: 0.3436 - accuracy: 0.8874 - precision: 0.9081 - recall: 0.8673 - auc: 0.9944 - prc: 0.9518 - val_loss: 1.2835 - val_accuracy: 0.6962 - val_precision: 0.7226 - val_recall: 0.6799 - val_auc: 0.9437 - val_prc: 0.7463\n",
            "Epoch 18/20\n",
            "1072/1072 [==============================] - 39s 37ms/step - loss: 0.3149 - accuracy: 0.8962 - precision: 0.9141 - recall: 0.8790 - auc: 0.9951 - prc: 0.9580 - val_loss: 1.1275 - val_accuracy: 0.7244 - val_precision: 0.7475 - val_recall: 0.7103 - val_auc: 0.9534 - val_prc: 0.7874\n",
            "Epoch 19/20\n",
            "1072/1072 [==============================] - 40s 37ms/step - loss: 0.2835 - accuracy: 0.9061 - precision: 0.9218 - recall: 0.8923 - auc: 0.9960 - prc: 0.9648 - val_loss: 1.2892 - val_accuracy: 0.6916 - val_precision: 0.7172 - val_recall: 0.6756 - val_auc: 0.9442 - val_prc: 0.7464\n",
            "Epoch 20/20\n",
            "1072/1072 [==============================] - 40s 37ms/step - loss: 0.2667 - accuracy: 0.9111 - precision: 0.9266 - recall: 0.8991 - auc: 0.9962 - prc: 0.9673 - val_loss: 1.1886 - val_accuracy: 0.7241 - val_precision: 0.7451 - val_recall: 0.7125 - val_auc: 0.9493 - val_prc: 0.7779\n"
          ]
        }
      ],
      "source": [
        "# Size of the patches in pixels be extracted from convolved features\n",
        "# ~0.25 of side length worked well with 32x32\n",
        "PATCH_SIZE = 8\n",
        "\n",
        "# Number of FNET blocks\n",
        "# More blocks greatly decreases training time\n",
        "NUM_BLOCKS = 4\n",
        "\n",
        "# Number of hidden units in each FNET block\n",
        "HIDDEN_SIZE = 256\n",
        "NUM_CLASSES = 21\n",
        "\n",
        "# def build_model(input_shape, num_classes, patch_size=8, num_blocks=4, dropout_rate=0.2, embedding_dim=256):\n",
        "#     # single image dimensions\n",
        "#     width, height, channels = input_shape\n",
        "#     inputs = layers.Input(shape=input_shape)\n",
        "#     num_strides = 2\n",
        "\n",
        "#     # image transformations\n",
        "#     data_augmentation = tf.keras.Sequential(\n",
        "#       [\n",
        "#           tf.keras.layers.Rescaling(1./255),\n",
        "#           tf.keras.layers.RandomFlip(\"horizontal\"),\n",
        "#           tf.keras.layers.RandomZoom(\n",
        "#               height_factor=0.2, width_factor=0.2\n",
        "#           ),\n",
        "#           # we expect these to rotate a lot, how do you know\n",
        "#           # which is the 'bottom' of a cell?\n",
        "#           tf.keras.layers.RandomRotation(\n",
        "#               factor=(-0.7, 0.6)\n",
        "#           ),\n",
        "#       ],\n",
        "#     )\n",
        "\n",
        "#     # add data augmentation\n",
        "#     inputs = data_augmentation(inputs)\n",
        "\n",
        "#     # Convolution layers\n",
        "#     x = tf.keras.layers.Conv2D(filters=3, kernel_size=3, activation='relu', padding='same')(inputs)\n",
        "#     x = tf.keras.layers.BatchNormalization()(x)\n",
        "#     x = tf.keras.layers.Dropout(.3)(x)\n",
        "\n",
        "#     # --- stride layers ---\n",
        "#     x = tf.keras.layers.Conv2D(filters=64, kernel_size=3, strides=(2, 2), activation='relu', padding='same')(x)\n",
        "#     x = tf.keras.layers.BatchNormalization()(x)\n",
        "#     x = tf.keras.layers.Dropout(.1)(x)\n",
        "\n",
        "#     # x = tf.keras.layers.MaxPooling2D(pool_size = (2,2))(x)\n",
        "\n",
        "#     x = tf.keras.layers.Conv2D(filters=64, kernel_size=3, strides=(2, 2), activation='relu', padding='same')(x)\n",
        "#     x = tf.keras.layers.BatchNormalization()(x)\n",
        "#     x = tf.keras.layers.Dropout(.1)(x)\n",
        "#     # -------\n",
        "\n",
        "#     # x = tf.keras.layers.Conv2D(filters=64, kernel_size=3, activation='relu', padding='same')(x)\n",
        "#     # x = tf.keras.layers.BatchNormalization()(x)\n",
        "#     # x = tf.keras.layers.Dropout(.1)(x)\n",
        "    \n",
        "#     # larger convolutions once image is smaller\n",
        "#     x = tf.keras.layers.Conv2D(filters=256, kernel_size=3, activation='relu', padding='same')(x)\n",
        "#     x = tf.keras.layers.BatchNormalization()(x)\n",
        "#     x = tf.keras.layers.Dropout(.1)(x)\n",
        "\n",
        "#     x = tf.keras.layers.Conv2D(filters=128, kernel_size=3, activation='relu', padding='same')(x)\n",
        "#     x = tf.keras.layers.BatchNormalization()(x)\n",
        "#     x = tf.keras.layers.Dropout(.1)(x)\n",
        "\n",
        "#     # number of patches depends on desired size of path relative to\n",
        "#     # image AFTER convolution is applied\n",
        "#     # num_strides = 0\n",
        "#     num_patches = ((width//2**num_strides) // patch_size) ** 2  \n",
        "\n",
        "#     # Create patches.\n",
        "#     patches = Patches(patch_size, num_patches)(x)\n",
        "\n",
        "#     # Convolve the patches a few times\n",
        "#     patches = tf.keras.layers.Conv1D(filters=32, kernel_size=3, activation='relu', padding='same')(patches)\n",
        "#     patches = tf.keras.layers.BatchNormalization()(patches)\n",
        "#     patches = tf.keras.layers.Dropout(.1)(patches)\n",
        "#     patches = tf.keras.layers.Conv1D(filters=32, kernel_size=3, activation='relu', padding='same')(patches)\n",
        "\n",
        "#     # Encode patches to generate a [batch_size, num_patches, embedding_dim] tensor.\n",
        "#     x = layers.Dense(units=embedding_dim)(patches)\n",
        "\n",
        "#     # use positional encoding for FNet\n",
        "#     positions = tf.range(start=0, limit=num_patches, delta=1)\n",
        "#     position_embedding = layers.Embedding(\n",
        "#         input_dim=num_patches, output_dim=embedding_dim\n",
        "#     )(positions)\n",
        "#     x = x + position_embedding\n",
        "    \n",
        "#     # Process patches using n FNets\n",
        "#     fnet_blocks = keras.Sequential(\n",
        "#         [\n",
        "#             FNetLayer(num_patches, embedding_dim, dropout_rate) for _ in range(num_blocks)\n",
        "#         ]\n",
        "#     )\n",
        "#     x = fnet_blocks(x)\n",
        "\n",
        "#     # Apply global average pooling to generate a [batch_size, embedding_dim] \n",
        "#     # representation tensor.\n",
        "#     representation = layers.GlobalAveragePooling1D()(x)\n",
        "    \n",
        "#     # Apply dropout.\n",
        "#     representation = layers.Dropout(rate=dropout_rate)(representation)\n",
        "    \n",
        "#     # Compute logits outputs.\n",
        "#     logits = layers.Dense(num_classes, activation='softmax')(representation)\n",
        "\n",
        "#     # Create the Keras model.\n",
        "#     return keras.Model(inputs=inputs, outputs=logits)\n",
        "def build_model(input_shape, num_classes, patch_size=8, num_blocks=4, dropout_rate=0.2, embedding_dim=256):\n",
        "    # single image dimensions\n",
        "    width, height, channels = input_shape\n",
        "    inputs = layers.Input(shape=input_shape)\n",
        "    num_strides = 2\n",
        "\n",
        "    data_augmentation = tf.keras.Sequential(\n",
        "      [\n",
        "          tf.keras.layers.Normalization(),\n",
        "          tf.keras.layers.RandomFlip(\"horizontal\"),\n",
        "          tf.keras.layers.RandomZoom(\n",
        "              height_factor=0.2, width_factor=0.2\n",
        "          ),\n",
        "      ],\n",
        "    )\n",
        "\n",
        "    # Convolution layers\n",
        "    x = tf.keras.layers.Conv2D(filters=8, kernel_size=3, activation='relu', padding='same')(inputs)\n",
        "    x = tf.keras.layers.BatchNormalization()(x)\n",
        "    x = tf.keras.layers.Dropout(.3)(x)\n",
        "\n",
        "    # --- stride layers ---\n",
        "    x = tf.keras.layers.Conv2D(filters=64, kernel_size=3, strides=(2, 2), activation='relu', padding='same')(x)\n",
        "    x = tf.keras.layers.BatchNormalization()(x)\n",
        "    x = tf.keras.layers.Dropout(.1)(x)\n",
        "\n",
        "    # x = tf.keras.layers.MaxPooling2D(pool_size = (2,2))(x)\n",
        "\n",
        "    x = tf.keras.layers.Conv2D(filters=64, kernel_size=3, strides=(2, 2), activation='relu', padding='same')(x)\n",
        "    x = tf.keras.layers.BatchNormalization()(x)\n",
        "    x = tf.keras.layers.Dropout(.1)(x)\n",
        "    # -------\n",
        "\n",
        "    x = tf.keras.layers.Conv2D(filters=64, kernel_size=3, activation='relu', padding='same')(x)\n",
        "    x = tf.keras.layers.BatchNormalization()(x)\n",
        "    x = tf.keras.layers.Dropout(.1)(x)\n",
        "    \n",
        "\n",
        "    # larger convolutions once image is smaller\n",
        "    x = tf.keras.layers.Conv2D(filters=128, kernel_size=3, activation='relu', padding='same')(x)\n",
        "    x = tf.keras.layers.BatchNormalization()(x)\n",
        "    x = tf.keras.layers.Dropout(.1)(x)\n",
        "\n",
        "    x = tf.keras.layers.Conv2D(filters=256, kernel_size=3, activation='relu', padding='same')(x)\n",
        "    x = tf.keras.layers.BatchNormalization()(x)\n",
        "    x = tf.keras.layers.Dropout(.1)(x)\n",
        "\n",
        "    # number of patches depends on desired size of path relative to\n",
        "    # image AFTER convolution is applied\n",
        "    num_patches = ((width//2**num_strides) // patch_size) ** 2  \n",
        "\n",
        "    # Create patches.\n",
        "    patches = Patches(patch_size, num_patches)(x)\n",
        "\n",
        "    # patches = tf.keras.layers.Conv1D(filters=32, kernel_size=3, activation='relu', padding='same')(patches)\n",
        "    # patches = tf.keras.layers.BatchNormalization()(patches)\n",
        "    # patches = tf.keras.layers.Dropout(.1)(patches)\n",
        "    # patches = tf.keras.layers.Conv1D(filters=32, kernel_size=3, activation='relu', padding='same')(patches)\n",
        "\n",
        "    # Encode patches to generate a [batch_size, num_patches, embedding_dim] tensor.\n",
        "    x = layers.Dense(units=embedding_dim)(patches)\n",
        "\n",
        "    # use positional encoding for FNet\n",
        "    positions = tf.range(start=0, limit=num_patches, delta=1)\n",
        "    position_embedding = layers.Embedding(\n",
        "        input_dim=num_patches, output_dim=embedding_dim\n",
        "    )(positions)\n",
        "    x = x + position_embedding\n",
        "    \n",
        "    # Process patches using n FNets\n",
        "    fnet_blocks = keras.Sequential(\n",
        "        [\n",
        "            FNetLayer(num_patches, embedding_dim, dropout_rate) for _ in range(num_blocks)\n",
        "        ]\n",
        "    )\n",
        "    x = fnet_blocks(x)\n",
        "\n",
        "    # Apply global average pooling to generate a [batch_size, embedding_dim] \n",
        "    # representation tensor.\n",
        "    representation = layers.GlobalAveragePooling1D()(x)\n",
        "    \n",
        "    # Apply dropout.\n",
        "    representation = layers.Dropout(rate=dropout_rate)(representation)\n",
        "    \n",
        "    # Compute logits outputs.\n",
        "    logits = layers.Dense(num_classes, activation='softmax')(representation)\n",
        "\n",
        "    # Create the Keras model.\n",
        "    return keras.Model(inputs=inputs, outputs=logits)\n",
        "\n",
        "\n",
        "model = build_model(\n",
        "    input_shape=IMAGE_SHAPE, \n",
        "    num_classes=NUM_CLASSES, \n",
        "    patch_size=PATCH_SIZE, \n",
        "    num_blocks=NUM_BLOCKS, \n",
        "    embedding_dim=HIDDEN_SIZE\n",
        ")\n",
        "model.summary()\n",
        "\n",
        "MODEL_PERFORMANCE_METRICS = [\n",
        "    # make sure your classes are one-hot encoded\n",
        "    tf.keras.metrics.CategoricalAccuracy(name=\"accuracy\"),\n",
        "    tf.keras.metrics.Precision(name='precision'),\n",
        "    tf.keras.metrics.Recall(name='recall'),\n",
        "    tf.keras.metrics.AUC(name='auc'),\n",
        "    # precision recall curve\n",
        "    tf.keras.metrics.AUC(name='prc', curve='PR'), \n",
        "]\n",
        "\n",
        "model.compile(\n",
        "    # default configuration adam works better than weighted decay adam\n",
        "    optimizer='adam',\n",
        "    loss=keras.losses.CategoricalCrossentropy(from_logits=True),\n",
        "    metrics=MODEL_PERFORMANCE_METRICS,\n",
        ")\n",
        "\n",
        "history = model.fit(\n",
        "    train_ds,\n",
        "    batch_size=1500,\n",
        "    epochs = 20,\n",
        "    validation_steps=500,\n",
        "    validation_data=val_ds\n",
        ")"
      ]
    },
    {
      "cell_type": "code",
      "source": [
        "# model.save('/tmp/model_20_epochs')\n",
        "model = tf.keras.models.load_model('/tmp/model_20_epochs')"
      ],
      "metadata": {
        "id": "M7lyb9JNwKuS"
      },
      "execution_count": 9,
      "outputs": []
    },
    {
      "cell_type": "code",
      "source": [
        "print(history.history.keys())"
      ],
      "metadata": {
        "colab": {
          "base_uri": "https://localhost:8080/"
        },
        "id": "gk4M-gy74ouH",
        "outputId": "7c4afd2c-d0f3-4885-cd4b-6fc4af765128"
      },
      "execution_count": 20,
      "outputs": [
        {
          "output_type": "stream",
          "name": "stdout",
          "text": [
            "dict_keys(['loss', 'accuracy', 'precision', 'recall', 'auc', 'prc', 'val_loss', 'val_accuracy', 'val_precision', 'val_recall', 'val_auc', 'val_prc'])\n"
          ]
        }
      ]
    },
    {
      "cell_type": "code",
      "source": [
        "plt.plot(history.history['loss'])"
      ],
      "metadata": {
        "colab": {
          "base_uri": "https://localhost:8080/",
          "height": 283
        },
        "id": "TF9KrcQw7Zdc",
        "outputId": "1805c377-7afd-49f7-9bf3-f906edb3398c"
      },
      "execution_count": 23,
      "outputs": [
        {
          "output_type": "execute_result",
          "data": {
            "text/plain": [
              "[<matplotlib.lines.Line2D at 0x7f979b03c730>]"
            ]
          },
          "metadata": {},
          "execution_count": 23
        },
        {
          "output_type": "display_data",
          "data": {
            "text/plain": [
              "<Figure size 432x288 with 1 Axes>"
            ],
            "image/png": "[encoded data removed]"
          },
          "metadata": {
            "needs_background": "light"
          }
        }
      ]
    },
    {
      "cell_type": "code",
      "source": [
        "from google.colab import files\n",
        "\n",
        "\n",
        "# summarize history for accuracy\n",
        "# plt.plot(history.history['accuracy'])\n",
        "# plt.plot(history.history['val_accuracy'])\n",
        "# plt.title('PPCF - Accuracy')\n",
        "# plt.ylabel('accuracy')\n",
        "# plt.xlabel('epoch')\n",
        "# plt.legend(['train', 'test'], loc='upper left')\n",
        "# plt.show()\n",
        "\n",
        "\n",
        "# PRC\n",
        "plt.plot(history.history['prc'])\n",
        "plt.plot(history.history['val_prc'])\n",
        "plt.title('PPCF - Precision-Recall Curve')\n",
        "plt.ylabel('PRC')\n",
        "plt.xlabel('epoch')\n",
        "plt.legend(['train PRC', 'test PRC'], loc='upper left')\n",
        "plt.savefig('ppcf_prc.png', dpi=1200)\n",
        "files.download(\"ppcf_prc.png\") "
      ],
      "metadata": {
        "colab": {
          "base_uri": "https://localhost:8080/",
          "height": 240
        },
        "id": "glWCJT_x8D5K",
        "outputId": "022e7f66-2d27-408c-bc71-5d9745f64414"
      },
      "execution_count": 10,
      "outputs": [
        {
          "output_type": "error",
          "ename": "NameError",
          "evalue": "ignored",
          "traceback": [
            "\u001b[0;31m---------------------------------------------------------------------------\u001b[0m",
            "\u001b[0;31mNameError\u001b[0m                                 Traceback (most recent call last)",
            "\u001b[0;32m<ipython-input-10-7c8fc51942dd>\u001b[0m in \u001b[0;36m<module>\u001b[0;34m\u001b[0m\n\u001b[1;32m     13\u001b[0m \u001b[0;34m\u001b[0m\u001b[0m\n\u001b[1;32m     14\u001b[0m \u001b[0;31m# PRC\u001b[0m\u001b[0;34m\u001b[0m\u001b[0;34m\u001b[0m\u001b[0;34m\u001b[0m\u001b[0m\n\u001b[0;32m---> 15\u001b[0;31m \u001b[0mplt\u001b[0m\u001b[0;34m.\u001b[0m\u001b[0mplot\u001b[0m\u001b[0;34m(\u001b[0m\u001b[0mhistory\u001b[0m\u001b[0;34m.\u001b[0m\u001b[0mhistory\u001b[0m\u001b[0;34m[\u001b[0m\u001b[0;34m'prc'\u001b[0m\u001b[0;34m]\u001b[0m\u001b[0;34m)\u001b[0m\u001b[0;34m\u001b[0m\u001b[0;34m\u001b[0m\u001b[0m\n\u001b[0m\u001b[1;32m     16\u001b[0m \u001b[0mplt\u001b[0m\u001b[0;34m.\u001b[0m\u001b[0mplot\u001b[0m\u001b[0;34m(\u001b[0m\u001b[0mhistory\u001b[0m\u001b[0;34m.\u001b[0m\u001b[0mhistory\u001b[0m\u001b[0;34m[\u001b[0m\u001b[0;34m'val_prc'\u001b[0m\u001b[0;34m]\u001b[0m\u001b[0;34m)\u001b[0m\u001b[0;34m\u001b[0m\u001b[0;34m\u001b[0m\u001b[0m\n\u001b[1;32m     17\u001b[0m \u001b[0mplt\u001b[0m\u001b[0;34m.\u001b[0m\u001b[0mtitle\u001b[0m\u001b[0;34m(\u001b[0m\u001b[0;34m'PPCF - Precision-Recall Curve'\u001b[0m\u001b[0;34m)\u001b[0m\u001b[0;34m\u001b[0m\u001b[0;34m\u001b[0m\u001b[0m\n",
            "\u001b[0;31mNameError\u001b[0m: name 'history' is not defined"
          ]
        }
      ]
    },
    {
      "cell_type": "code",
      "source": [
        "\n",
        "# Precision / Recall\n",
        "plt.plot(history.history['precision'])\n",
        "plt.plot(history.history['val_precision'])\n",
        "plt.plot(history.history['recall'])\n",
        "plt.plot(history.history['val_recall'])\n",
        "plt.title('PPCF - Precision / Recall')\n",
        "plt.ylabel('precision / recall')\n",
        "plt.xlabel('epoch')\n",
        "plt.legend(['train precision', 'test precision', 'train recall', 'test recall'], loc='upper left')\n",
        "# plt.show()\n",
        "plt.savefig('my_fig.png', dpi=1200)\n",
        "files.download(\"my_fig.png\") "
      ],
      "metadata": {
        "colab": {
          "base_uri": "https://localhost:8080/",
          "height": 35
        },
        "id": "WuKfxhUY8qE8",
        "outputId": "06248e83-4d8d-4730-a5b4-9795adb6911a"
      },
      "execution_count": 29,
      "outputs": [
        {
          "output_type": "display_data",
          "data": {
            "text/plain": [
              "<IPython.core.display.Javascript object>"
            ],
            "application/javascript": [
              "\n",
              "    async function download(id, filename, size) {\n",
              "      if (!google.colab.kernel.accessAllowed) {\n",
              "        return;\n",
              "      }\n",
              "      const div = document.createElement('div');\n",
              "      const label = document.createElement('label');\n",
              "      label.textContent = `Downloading \"${filename}\": `;\n",
              "      div.appendChild(label);\n",
              "      const progress = document.createElement('progress');\n",
              "      progress.max = size;\n",
              "      div.appendChild(progress);\n",
              "      document.body.appendChild(div);\n",
              "\n",
              "      const buffers = [];\n",
              "      let downloaded = 0;\n",
              "\n",
              "      const channel = await google.colab.kernel.comms.open(id);\n",
              "      // Send a message to notify the kernel that we're ready.\n",
              "      channel.send({})\n",
              "\n",
              "      for await (const message of channel.messages) {\n",
              "        // Send a message to notify the kernel that we're ready.\n",
              "        channel.send({})\n",
              "        if (message.buffers) {\n",
              "          for (const buffer of message.buffers) {\n",
              "            buffers.push(buffer);\n",
              "            downloaded += buffer.byteLength;\n",
              "            progress.value = downloaded;\n",
              "          }\n",
              "        }\n",
              "      }\n",
              "      const blob = new Blob(buffers, {type: 'application/binary'});\n",
              "      const a = document.createElement('a');\n",
              "      a.href = window.URL.createObjectURL(blob);\n",
              "      a.download = filename;\n",
              "      div.appendChild(a);\n",
              "      a.click();\n",
              "      div.remove();\n",
              "    }\n",
              "  "
            ]
          },
          "metadata": {}
        },
        {
          "output_type": "display_data",
          "data": {
            "text/plain": [
              "<IPython.core.display.Javascript object>"
            ],
            "application/javascript": [
              "download(\"download_527f3cdb-7278-4215-aa9f-c0b07b1a5e51\", \"my_fig.png\", 146708)"
            ]
          },
          "metadata": {}
        },
        {
          "output_type": "display_data",
          "data": {
            "text/plain": [
              "<Figure size 432x288 with 0 Axes>"
            ]
          },
          "metadata": {}
        }
      ]
    },
    {
      "cell_type": "code",
      "source": [
        "y_pred = model.predict(val_ds)"
      ],
      "metadata": {
        "colab": {
          "base_uri": "https://localhost:8080/"
        },
        "id": "w_YYCScT_feV",
        "outputId": "0676a928-5f94-4d70-e0e0-e4333f0fb98b"
      },
      "execution_count": 11,
      "outputs": [
        {
          "output_type": "stream",
          "name": "stdout",
          "text": [
            "1072/1072 [==============================] - 364s 337ms/step\n"
          ]
        }
      ]
    },
    {
      "cell_type": "code",
      "source": [
        "y_true = np.concatenate([y for x, y in val_ds], axis=0)"
      ],
      "metadata": {
        "id": "JxTaNKviBIC1"
      },
      "execution_count": 12,
      "outputs": []
    },
    {
      "cell_type": "markdown",
      "source": [],
      "metadata": {
        "id": "UXN7NhY67Syb"
      }
    },
    {
      "cell_type": "code",
      "source": [
        "y_pred.shape"
      ],
      "metadata": {
        "colab": {
          "base_uri": "https://localhost:8080/"
        },
        "id": "GkIDV2PoG3Az",
        "outputId": "da73a51c-836e-4098-a541-bd707c897a0c"
      },
      "execution_count": 13,
      "outputs": [
        {
          "output_type": "execute_result",
          "data": {
            "text/plain": [
              "(34274, 21)"
            ]
          },
          "metadata": {},
          "execution_count": 13
        }
      ]
    },
    {
      "cell_type": "code",
      "source": [
        "y_true.shape"
      ],
      "metadata": {
        "colab": {
          "base_uri": "https://localhost:8080/"
        },
        "id": "nZLCgRUrG5Bb",
        "outputId": "2bee62ff-48bf-491a-807d-194088dca58d"
      },
      "execution_count": 14,
      "outputs": [
        {
          "output_type": "execute_result",
          "data": {
            "text/plain": [
              "(34274, 21)"
            ]
          },
          "metadata": {},
          "execution_count": 14
        }
      ]
    },
    {
      "cell_type": "code",
      "source": [
        "from sklearn.metrics import classification_report"
      ],
      "metadata": {
        "id": "TDIoMxneHFA5"
      },
      "execution_count": 78,
      "outputs": []
    },
    {
      "cell_type": "code",
      "source": [
        "report = classification_report(y_true.argmax(axis=-1), y_pred.argmax(axis=-1), output_dict=True)"
      ],
      "metadata": {
        "colab": {
          "base_uri": "https://localhost:8080/"
        },
        "id": "X0rC_b0MG6Sm",
        "outputId": "308e0d4e-7bd9-4a6e-80b0-5934984d6432"
      },
      "execution_count": 91,
      "outputs": [
        {
          "output_type": "stream",
          "name": "stderr",
          "text": [
            "/usr/local/lib/python3.8/dist-packages/sklearn/metrics/_classification.py:1318: UndefinedMetricWarning: Precision and F-score are ill-defined and being set to 0.0 in labels with no predicted samples. Use `zero_division` parameter to control this behavior.\n",
            "  _warn_prf(average, modifier, msg_start, len(result))\n",
            "/usr/local/lib/python3.8/dist-packages/sklearn/metrics/_classification.py:1318: UndefinedMetricWarning: Precision and F-score are ill-defined and being set to 0.0 in labels with no predicted samples. Use `zero_division` parameter to control this behavior.\n",
            "  _warn_prf(average, modifier, msg_start, len(result))\n",
            "/usr/local/lib/python3.8/dist-packages/sklearn/metrics/_classification.py:1318: UndefinedMetricWarning: Precision and F-score are ill-defined and being set to 0.0 in labels with no predicted samples. Use `zero_division` parameter to control this behavior.\n",
            "  _warn_prf(average, modifier, msg_start, len(result))\n"
          ]
        }
      ]
    },
    {
      "cell_type": "code",
      "source": [
        "import pandas as pd\n",
        "\n",
        "\n"
      ],
      "metadata": {
        "id": "MJfm2tNuHO0k"
      },
      "execution_count": 93,
      "outputs": []
    },
    {
      "cell_type": "code",
      "source": [
        "CLASSNAME_LOOKUP = {\n",
        "        'ABE': 'Abnormal eosinophil',\n",
        "        'ART': 'Artefact',\n",
        "        'BAS': 'Basophil',\n",
        "        'BLA': 'Blast',\n",
        "        'EBO': 'Erythroblast',\n",
        "        'EOS': 'Eosinophil',\n",
        "        'FGC': 'Faggott cell',\n",
        "        'HAC': 'Hairy cell',\n",
        "        'KSC': 'Smudge cell',\n",
        "        'LYI': 'Immature lymphocyte',\n",
        "        'LYT': 'Lymphocyte',\n",
        "        'MMZ': 'Metamyelocyte',\n",
        "        'MON': 'Monocyte',\n",
        "        'MYB': 'Myelocyte',\n",
        "        'NGB': 'Band neutrophil',\n",
        "        'NGS': 'Segmented neutrophil',\n",
        "        'NIF': 'Not identifiable',\n",
        "        'OTH': 'Other cell',\n",
        "        'PEB': 'Proerythroblast',\n",
        "        'PLM': 'Plasma cell',\n",
        "        'PMO': 'Promyelocyte',\n",
        "    }"
      ],
      "metadata": {
        "id": "oidsmY0zSeuP"
      },
      "execution_count": null,
      "outputs": []
    },
    {
      "cell_type": "code",
      "source": [
        "report_fixed = {len(k) <= 2 and list(CLASSNAME_LOOKUP.keys())[int(k)] or k: v for k, v in report.items()}"
      ],
      "metadata": {
        "id": "uYrAdAf8Rxx-"
      },
      "execution_count": 99,
      "outputs": []
    },
    {
      "cell_type": "code",
      "source": [
        "df = pd.DataFrame(report_fixed)\n",
        "df = df.transpose().round(2)"
      ],
      "metadata": {
        "id": "GmdPgpeARanK"
      },
      "execution_count": 102,
      "outputs": []
    },
    {
      "cell_type": "code",
      "source": [
        "df.to_csv('precision_recall_report.csv')\n",
        "!cp precision_recall_report.csv \"drive/My Drive/\""
      ],
      "metadata": {
        "id": "dTRKf48ROiKm"
      },
      "execution_count": 105,
      "outputs": []
    },
    {
      "cell_type": "code",
      "source": [],
      "metadata": {
        "id": "wwZoloqLS0J3"
      },
      "execution_count": null,
      "outputs": []
    },
    {
      "cell_type": "code",
      "source": [
        "from matplotlib import pyplot as plt\n",
        "from sklearn.metrics import confusion_matrix\n",
        "import seaborn as sns\n",
        "\n",
        "cm = confusion_matrix(y_true.argmax(axis=-1), y_pred.argmax(axis=-1), )\n",
        "\n",
        "cm = np.around(cm, decimals=2)\n",
        "\n",
        "names = list(CLASSNAME_LOOKUP.keys())\n",
        "\n",
        "cmn = cm.astype('float') / cm.sum(axis=1)[:, np.newaxis]\n",
        "fig, ax = plt.subplots(figsize=(17,13))\n",
        "sns.heatmap(cmn, annot=True, fmt='.2f', xticklabels=names, yticklabels=names)\n",
        "plt.ylabel('Actual')\n",
        "plt.xlabel('Predicted')\n",
        "plt.show(block=False)"
      ],
      "metadata": {
        "colab": {
          "base_uri": "https://localhost:8080/",
          "height": 773
        },
        "id": "0zyzOnTBHmpf",
        "outputId": "07e4c496-f7a9-4f4e-a4a7-f410635c50fd"
      },
      "execution_count": 70,
      "outputs": [
        {
          "output_type": "display_data",
          "data": {
            "text/plain": [
              "<Figure size 1224x936 with 2 Axes>"
            ],
            "image/png": "[encoded data removed]"
          },
          "metadata": {
            "needs_background": "light"
          }
        }
      ]
    },
    {
      "cell_type": "code",
      "source": [
        "fig.savefig('my_fig.png', dpi=300)\n",
        "files.download(\"my_fig.png\") "
      ],
      "metadata": {
        "colab": {
          "base_uri": "https://localhost:8080/",
          "height": 17
        },
        "id": "a2Z-Ry3sIenl",
        "outputId": "1d1402bd-0294-4f48-ea56-9db586567fe9"
      },
      "execution_count": 71,
      "outputs": [
        {
          "output_type": "display_data",
          "data": {
            "text/plain": [
              "<IPython.core.display.Javascript object>"
            ],
            "application/javascript": [
              "\n",
              "    async function download(id, filename, size) {\n",
              "      if (!google.colab.kernel.accessAllowed) {\n",
              "        return;\n",
              "      }\n",
              "      const div = document.createElement('div');\n",
              "      const label = document.createElement('label');\n",
              "      label.textContent = `Downloading \"${filename}\": `;\n",
              "      div.appendChild(label);\n",
              "      const progress = document.createElement('progress');\n",
              "      progress.max = size;\n",
              "      div.appendChild(progress);\n",
              "      document.body.appendChild(div);\n",
              "\n",
              "      const buffers = [];\n",
              "      let downloaded = 0;\n",
              "\n",
              "      const channel = await google.colab.kernel.comms.open(id);\n",
              "      // Send a message to notify the kernel that we're ready.\n",
              "      channel.send({})\n",
              "\n",
              "      for await (const message of channel.messages) {\n",
              "        // Send a message to notify the kernel that we're ready.\n",
              "        channel.send({})\n",
              "        if (message.buffers) {\n",
              "          for (const buffer of message.buffers) {\n",
              "            buffers.push(buffer);\n",
              "            downloaded += buffer.byteLength;\n",
              "            progress.value = downloaded;\n",
              "          }\n",
              "        }\n",
              "      }\n",
              "      const blob = new Blob(buffers, {type: 'application/binary'});\n",
              "      const a = document.createElement('a');\n",
              "      a.href = window.URL.createObjectURL(blob);\n",
              "      a.download = filename;\n",
              "      div.appendChild(a);\n",
              "      a.click();\n",
              "      div.remove();\n",
              "    }\n",
              "  "
            ]
          },
          "metadata": {}
        },
        {
          "output_type": "display_data",
          "data": {
            "text/plain": [
              "<IPython.core.display.Javascript object>"
            ],
            "application/javascript": [
              "download(\"download_3b1ba314-0a98-465f-b6c8-a08d496a4358\", \"my_fig.png\", 614272)"
            ]
          },
          "metadata": {}
        }
      ]
    },
    {
      "cell_type": "code",
      "source": [
        "train_ds"
      ],
      "metadata": {
        "colab": {
          "base_uri": "https://localhost:8080/"
        },
        "id": "vyHBbQh8Ip9M",
        "outputId": "5b7cd4ca-4a00-4ddf-a07a-c54c702d6fff"
      },
      "execution_count": 45,
      "outputs": [
        {
          "output_type": "execute_result",
          "data": {
            "text/plain": [
              "<PrefetchDataset element_spec=(TensorSpec(shape=(None, 128, 128, 3), dtype=tf.float32, name=None), TensorSpec(shape=(None, 21), dtype=tf.float32, name=None))>"
            ]
          },
          "metadata": {},
          "execution_count": 45
        }
      ]
    },
    {
      "cell_type": "code",
      "source": [
        "import seaborn as sn"
      ],
      "metadata": {
        "id": "rH2ZO11sJzRG"
      },
      "execution_count": 54,
      "outputs": []
    },
    {
      "cell_type": "code",
      "source": [],
      "metadata": {
        "id": "XMfaX5psMzgy"
      },
      "execution_count": null,
      "outputs": []
    }
  ],
  "metadata": {
    "kernelspec": {
      "display_name": "Python 3",
      "name": "python3"
    },
    "language_info": {
      "name": "python"
    },
    "colab": {
      "provenance": []
    },
    "accelerator": "GPU",
    "gpuClass": "premium"
  },
  "nbformat": 4,
  "nbformat_minor": 0
}