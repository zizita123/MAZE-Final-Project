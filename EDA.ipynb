{
 "cells": [
  {
   "cell_type": "code",
   "execution_count": 1,
   "metadata": {},
   "outputs": [],
   "source": [
    "import numpy as np \n",
    "import pandas as pd \n",
    "import tensorflow as tf\n",
    "import matplotlib.pyplot as plt\n",
    "import cv2\n",
    "import os"
   ]
  },
  {
   "cell_type": "code",
   "execution_count": 3,
   "metadata": {},
   "outputs": [
    {
     "data": {
      "text/plain": [
       "8"
      ]
     },
     "execution_count": 3,
     "metadata": {},
     "output_type": "execute_result"
    }
   ],
   "source": [
    "image_dir = \"data/bone_marrow_cell_dataset/\"\n",
    "list_of_files = os.listdir(image_dir)\n",
    "sample_image_dir = image_dir + \"/\" + list_of_files[0]\n",
    "\n",
    "sample_image_list = os.listdir(sample_image_dir)\n",
    "\n"
   ]
  },
  {
   "cell_type": "code",
   "execution_count": 35,
   "metadata": {},
   "outputs": [],
   "source": [
    "ART_file_list = os.listdir(image_dir + \"/\" + \"ART/merge_folder\")\n",
    "BLA_file_list = os.listdir(image_dir + \"/\" + \"BLA/merge_folder\")\n",
    "EBO_file_list = os.listdir(image_dir + \"/\" + \"EBO/merge_folder\")\n",
    "EOS_file_list = os.listdir(image_dir + \"/\" + \"EOS/merge_folder\")\n",
    "LYT_file_list = os.listdir(image_dir + \"/\" + \"LYT/merge_folder\")\n",
    "MMZ_file_list = os.listdir(image_dir + \"/\" + \"MMZ/merge_folder\")\n",
    "MON_file_list = os.listdir(image_dir + \"/\" + \"MON/merge_folder\")\n",
    "MYB_file_list = os.listdir(image_dir + \"/\" + \"MYB/merge_folder\")\n",
    "NGB_file_list = os.listdir(image_dir + \"/\" + \"NGB/merge_folder\")\n",
    "NGS_file_list = os.listdir(image_dir + \"/\" + \"NGS/merge_folder\")\n",
    "NIF_file_list = os.listdir(image_dir + \"/\" + \"NIF/merge_folder\")\n",
    "PEB_file_list = os.listdir(image_dir + \"/\" + \"PEB/merge_folder\")\n",
    "PLM_file_list = os.listdir(image_dir + \"/\" + \"PLM/merge_folder\")\n",
    "PMO_file_list = os.listdir(image_dir + \"/\" + \"PMO/merge_folder\")"
   ]
  },
  {
   "cell_type": "code",
   "execution_count": 49,
   "metadata": {},
   "outputs": [
    {
     "data": {
      "text/plain": [
       "['2001-3000',\n",
       " '8001-9000',\n",
       " '12001-13000',\n",
       " '4001-5000',\n",
       " '1001-2000',\n",
       " '10001-11000',\n",
       " '18001-19000',\n",
       " '9001-10000',\n",
       " '15001-16000',\n",
       " '5001-6000',\n",
       " '14001-15000',\n",
       " '0001-1000',\n",
       " '17001-18000',\n",
       " '7001-8000',\n",
       " '11001-12000',\n",
       " '13001-14000',\n",
       " '3001-4000',\n",
       " '19001-19630',\n",
       " '6001-7000',\n",
       " '16001-17000']"
      ]
     },
     "execution_count": 49,
     "metadata": {},
     "output_type": "execute_result"
    }
   ],
   "source": [
    "ART_file_list"
   ]
  },
  {
   "cell_type": "code",
   "execution_count": 36,
   "metadata": {},
   "outputs": [],
   "source": [
    "ART_file_list.remove('.DS_Store')"
   ]
  },
  {
   "cell_type": "code",
   "execution_count": 39,
   "metadata": {},
   "outputs": [],
   "source": [
    "train_data = []\n",
    "label_data = []\n",
    "\n",
    "for name in range(len(ART_directory)):\n",
    "    image = cv2.imread(ART_directory + \"/\" + liste_ART[name])\n",
    "    image = cv2.cvtColor(image, cv2.COLOR_BGR2GRAY)\n",
    "    train_data.append(image)\n",
    "    label_data.append([1,0,0,0,0,0,0])\n",
    "    "
   ]
  },
  {
   "cell_type": "markdown",
   "metadata": {},
   "source": [
    "DO NOT RUN THE CELL BELOW.\n",
    "Run the following cell block replacing ART with bla, ebo, eos, lyt, mmz, mon, myb, ngb, ngs, nif, peb, plm, pmo. "
   ]
  },
  {
   "cell_type": "code",
   "execution_count": 64,
   "metadata": {},
   "outputs": [],
   "source": [
    "# import shutil\n",
    "# import os\n",
    "  \n",
    "  \n",
    "# # Function to create new folder if not exists\n",
    "# def make_new_folder(folder_name, parent_folder):\n",
    "      \n",
    "#     # Path\n",
    "#     path = os.path.join(parent_folder, folder_name)\n",
    "      \n",
    "#     # Create the folder\n",
    "#     # 'new_folder' in\n",
    "#     # parent_folder\n",
    "#     try: \n",
    "#         # mode of the folder\n",
    "#         mode = 0o777\n",
    "  \n",
    "#         # Create folder\n",
    "#         os.mkdir(path, mode) \n",
    "#     except OSError as error: \n",
    "#         print(error)\n",
    "  \n",
    "# # current folder path\n",
    "# current_folder = os.getcwd() + '/Data/bone_marrow_cell_dataset/PMO'  \n",
    "\n",
    "\n",
    "# # list of folders to be merged\n",
    "# list_dir = PMO_file_list\n",
    "  \n",
    "# # enumerate on list_dir to get the \n",
    "# # content of all the folders ans store \n",
    "# # it in a dictionary\n",
    "# content_list = {}\n",
    "# for index, val in enumerate(list_dir):\n",
    "#     path = os.path.join(current_folder, val)\n",
    "#     content_list[ list_dir[index] ] = os.listdir(path)\n",
    "\n",
    "# # folder in which all the content will\n",
    "# # be merged\n",
    "# merge_folder = \"merge_folder\"\n",
    "  \n",
    "# # merge_folder path - current_folder \n",
    "# # + merge_folder\n",
    "# merge_folder_path = os.path.join(current_folder, merge_folder) \n",
    "  \n",
    "# # create merge_folder if not exists\n",
    "# make_new_folder(merge_folder, current_folder)\n",
    "  \n",
    "# # loop through the list of folders\n",
    "# for sub_dir in content_list:\n",
    "  \n",
    "#     # loop through the contents of the \n",
    "#     # list of folders\n",
    "#     for contents in content_list[sub_dir]:\n",
    "  \n",
    "#         # make the path of the content to move \n",
    "#         path_to_content = sub_dir + \"/\" + contents  \n",
    "  \n",
    "#         # make the path with the current folder\n",
    "#         dir_to_move = os.path.join(current_folder, path_to_content )\n",
    "  \n",
    "#         # move the file\n",
    "#         shutil.move(dir_to_move, merge_folder_path)\n",
    "\n"
   ]
  },
  {
   "cell_type": "code",
   "execution_count": null,
   "metadata": {},
   "outputs": [],
   "source": []
  }
 ],
 "metadata": {
  "kernelspec": {
   "display_name": "Python 3.9.13 ('base')",
   "language": "python",
   "name": "python3"
  },
  "language_info": {
   "codemirror_mode": {
    "name": "ipython",
    "version": 3
   },
   "file_extension": ".py",
   "mimetype": "text/x-python",
   "name": "python",
   "nbconvert_exporter": "python",
   "pygments_lexer": "ipython3",
   "version": "3.9.13"
  },
  "orig_nbformat": 4,
  "vscode": {
   "interpreter": {
    "hash": "133e1aa1ab932592a172947296ac0a44a4189561742e82da493ac43542eab238"
   }
  }
 },
 "nbformat": 4,
 "nbformat_minor": 2
}
